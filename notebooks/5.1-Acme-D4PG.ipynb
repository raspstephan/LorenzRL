{
 "cells": [
  {
   "cell_type": "markdown",
   "id": "f5d8325d",
   "metadata": {
    "Collapsed": "false"
   },
   "source": [
    "# Acme test"
   ]
  },
  {
   "cell_type": "markdown",
   "id": "76cb1556",
   "metadata": {
    "Collapsed": "false"
   },
   "source": [
    "## Train D4PG for Cartpole"
   ]
  },
  {
   "cell_type": "code",
   "execution_count": 6,
   "id": "56b9547a",
   "metadata": {
    "Collapsed": "false"
   },
   "outputs": [],
   "source": [
    "from acme import environment_loop\n",
    "from acme import specs\n",
    "from acme import wrappers\n",
    "from acme.agents.tf import d4pg\n",
    "from acme.tf import networks\n",
    "from acme.tf import utils as tf2_utils\n",
    "from acme.utils import loggers\n",
    "import numpy as np\n",
    "import sonnet as snt\n",
    "import warnings\n",
    "warnings.simplefilter(action='ignore', category=DeprecationWarning)"
   ]
  },
  {
   "cell_type": "code",
   "execution_count": 7,
   "id": "e9f93e41",
   "metadata": {
    "Collapsed": "false"
   },
   "outputs": [],
   "source": [
    "import gym"
   ]
  },
  {
   "cell_type": "code",
   "execution_count": 8,
   "id": "0a379983",
   "metadata": {
    "Collapsed": "false"
   },
   "outputs": [],
   "source": [
    "# Imports required for visualization\n",
    "import pyvirtualdisplay\n",
    "import imageio\n",
    "import base64"
   ]
  },
  {
   "cell_type": "code",
   "execution_count": 29,
   "id": "d2e14055",
   "metadata": {
    "Collapsed": "false"
   },
   "outputs": [],
   "source": [
    "# Set up a virtual display for rendering.\n",
    "display = pyvirtualdisplay.Display(visible=0, size=(1400, 900)).start()"
   ]
  },
  {
   "cell_type": "code",
   "execution_count": 41,
   "id": "db45fbcf",
   "metadata": {
    "Collapsed": "false"
   },
   "outputs": [],
   "source": [
    "environment = gym.make('MountainCarContinuous-v0')\n",
    "# environment = gym.make('CartPole-v1')"
   ]
  },
  {
   "cell_type": "code",
   "execution_count": 42,
   "id": "773051da",
   "metadata": {
    "Collapsed": "false"
   },
   "outputs": [],
   "source": [
    "state = environment.reset()"
   ]
  },
  {
   "cell_type": "code",
   "execution_count": 43,
   "id": "64d4c102",
   "metadata": {
    "Collapsed": "false"
   },
   "outputs": [
    {
     "data": {
      "text/plain": [
       "(4,)"
      ]
     },
     "execution_count": 43,
     "metadata": {},
     "output_type": "execute_result"
    }
   ],
   "source": [
    "state.shape"
   ]
  },
  {
   "cell_type": "code",
   "execution_count": 44,
   "id": "04fec2fd",
   "metadata": {
    "Collapsed": "false"
   },
   "outputs": [
    {
     "data": {
      "text/plain": [
       "array([ 0.01637666,  0.03503753,  0.00148239, -0.0016279 ], dtype=float32)"
      ]
     },
     "execution_count": 44,
     "metadata": {},
     "output_type": "execute_result"
    }
   ],
   "source": [
    "state"
   ]
  },
  {
   "cell_type": "code",
   "execution_count": 45,
   "id": "2ecfc100",
   "metadata": {
    "Collapsed": "false"
   },
   "outputs": [
    {
     "data": {
      "text/plain": [
       "Discrete(2)"
      ]
     },
     "execution_count": 45,
     "metadata": {},
     "output_type": "execute_result"
    }
   ],
   "source": [
    "environment.action_space"
   ]
  },
  {
   "cell_type": "code",
   "execution_count": 49,
   "id": "efe53158",
   "metadata": {
    "Collapsed": "false"
   },
   "outputs": [
    {
     "data": {
      "text/plain": [
       "(array([ 0.01707742, -0.16010565,  0.00144983,  0.29152238], dtype=float32),\n",
       " 1.0,\n",
       " False,\n",
       " {})"
      ]
     },
     "execution_count": 49,
     "metadata": {},
     "output_type": "execute_result"
    }
   ],
   "source": [
    "environment.step(0)"
   ]
  },
  {
   "cell_type": "code",
   "execution_count": 50,
   "id": "d2f87e56",
   "metadata": {
    "Collapsed": "false"
   },
   "outputs": [],
   "source": [
    "environment = wrappers.GymWrapper(environment)"
   ]
  },
  {
   "cell_type": "code",
   "execution_count": 51,
   "id": "d5f553c9",
   "metadata": {
    "Collapsed": "false"
   },
   "outputs": [
    {
     "data": {
      "text/plain": [
       "Discrete(2)"
      ]
     },
     "execution_count": 51,
     "metadata": {},
     "output_type": "execute_result"
    }
   ],
   "source": [
    "environment.action_space"
   ]
  },
  {
   "cell_type": "code",
   "execution_count": 52,
   "id": "22d2dfc5",
   "metadata": {
    "Collapsed": "false"
   },
   "outputs": [],
   "source": [
    "# Make sure the environment outputs single-precision floats.\n",
    "environment = wrappers.SinglePrecisionWrapper(environment)"
   ]
  },
  {
   "cell_type": "code",
   "execution_count": 53,
   "id": "40dbf9e4",
   "metadata": {
    "Collapsed": "false"
   },
   "outputs": [],
   "source": [
    "# Grab the spec of the environment.\n",
    "environment_spec = specs.make_environment_spec(environment)"
   ]
  },
  {
   "cell_type": "code",
   "execution_count": 54,
   "id": "483020f8",
   "metadata": {
    "Collapsed": "false"
   },
   "outputs": [
    {
     "data": {
      "text/plain": [
       "EnvironmentSpec(observations=BoundedArray(shape=(4,), dtype=dtype('float32'), name='observation', minimum=[-4.8000002e+00 -3.4028235e+38 -4.1887903e-01 -3.4028235e+38], maximum=[4.8000002e+00 3.4028235e+38 4.1887903e-01 3.4028235e+38]), actions=DiscreteArray(shape=(), dtype=int32, name=action, minimum=0, maximum=1, num_values=2), rewards=Array(shape=(), dtype=dtype('float32'), name='reward'), discounts=BoundedArray(shape=(), dtype=dtype('float32'), name='discount', minimum=0.0, maximum=1.0))"
      ]
     },
     "execution_count": 54,
     "metadata": {},
     "output_type": "execute_result"
    }
   ],
   "source": [
    "environment_spec"
   ]
  },
  {
   "cell_type": "code",
   "execution_count": 55,
   "id": "e9be1338",
   "metadata": {
    "Collapsed": "false"
   },
   "outputs": [],
   "source": [
    "#@title Build agent networks\n",
    "\n",
    "# Get total number of action dimensions from action spec.\n",
    "num_dimensions = np.prod(environment_spec.actions.shape, dtype=int)\n",
    "\n",
    "# Create the shared observation network; here simply a state-less operation.\n",
    "observation_network = tf2_utils.batch_concat\n",
    "\n",
    "# Create the deterministic policy network.\n",
    "policy_network = snt.Sequential([\n",
    "    networks.LayerNormMLP((256, 256, 256), activate_final=True),\n",
    "    networks.NearZeroInitializedLinear(num_dimensions),\n",
    "    networks.TanhToSpec(environment_spec.actions),\n",
    "])\n",
    "\n",
    "# Create the distributional critic network.\n",
    "critic_network = snt.Sequential([\n",
    "    # The multiplexer concatenates the observations/actions.\n",
    "    networks.CriticMultiplexer(),\n",
    "    networks.LayerNormMLP((512, 512, 256), activate_final=True),\n",
    "    networks.DiscreteValuedHead(vmin=-150., vmax=150., num_atoms=51),\n",
    "])"
   ]
  },
  {
   "cell_type": "code",
   "execution_count": 56,
   "id": "98e47abe",
   "metadata": {
    "Collapsed": "false"
   },
   "outputs": [
    {
     "data": {
      "text/plain": [
       "1"
      ]
     },
     "execution_count": 56,
     "metadata": {},
     "output_type": "execute_result"
    }
   ],
   "source": [
    "num_dimensions"
   ]
  },
  {
   "cell_type": "code",
   "execution_count": 57,
   "id": "fed6fc8d",
   "metadata": {
    "Collapsed": "false"
   },
   "outputs": [],
   "source": [
    "# Create a logger for the agent and environment loop.\n",
    "agent_logger = loggers.TerminalLogger(label='agent', time_delta=10.)\n",
    "env_loop_logger = loggers.TerminalLogger(label='env_loop', time_delta=10.)\n",
    "\n",
    "# Create the D4PG agent.\n",
    "agent = d4pg.D4PG(\n",
    "    environment_spec=environment_spec,\n",
    "    policy_network=policy_network,\n",
    "    critic_network=critic_network,\n",
    "    observation_network=observation_network,\n",
    "    sigma=1.0,\n",
    "    logger=agent_logger,\n",
    "    checkpoint=False\n",
    ")\n",
    "\n",
    "# Create an loop connecting this agent to the environment created above.\n",
    "env_loop = environment_loop.EnvironmentLoop(\n",
    "    environment, agent, logger=env_loop_logger)"
   ]
  },
  {
   "cell_type": "code",
   "execution_count": 58,
   "id": "9a3df6c0",
   "metadata": {
    "Collapsed": "false"
   },
   "outputs": [
    {
     "ename": "AssertionError",
     "evalue": "array([0.16814864], dtype=float32) (<class 'numpy.ndarray'>) invalid",
     "output_type": "error",
     "traceback": [
      "\u001b[0;31m---------------------------------------------------------------------------\u001b[0m",
      "\u001b[0;31mAssertionError\u001b[0m                            Traceback (most recent call last)",
      "\u001b[0;32m<ipython-input-58-92d394e33184>\u001b[0m in \u001b[0;36m<module>\u001b[0;34m\u001b[0m\n\u001b[1;32m      1\u001b[0m \u001b[0;31m# Run a `num_episodes` training episodes.\u001b[0m\u001b[0;34m\u001b[0m\u001b[0;34m\u001b[0m\u001b[0;34m\u001b[0m\u001b[0m\n\u001b[1;32m      2\u001b[0m \u001b[0;31m# Rerun this cell until the agent has learned the given task.\u001b[0m\u001b[0;34m\u001b[0m\u001b[0;34m\u001b[0m\u001b[0;34m\u001b[0m\u001b[0m\n\u001b[0;32m----> 3\u001b[0;31m \u001b[0menv_loop\u001b[0m\u001b[0;34m.\u001b[0m\u001b[0mrun\u001b[0m\u001b[0;34m(\u001b[0m\u001b[0mnum_episodes\u001b[0m\u001b[0;34m=\u001b[0m\u001b[0;36m50\u001b[0m\u001b[0;34m)\u001b[0m\u001b[0;34m\u001b[0m\u001b[0;34m\u001b[0m\u001b[0m\n\u001b[0m",
      "\u001b[0;32m/opt/conda/lib/python3.7/site-packages/acme/environment_loop.py\u001b[0m in \u001b[0;36mrun\u001b[0;34m(self, num_episodes, num_steps)\u001b[0m\n\u001b[1;32m    174\u001b[0m     \u001b[0;32mwith\u001b[0m \u001b[0msignals\u001b[0m\u001b[0;34m.\u001b[0m\u001b[0mruntime_terminator\u001b[0m\u001b[0;34m(\u001b[0m\u001b[0;34m)\u001b[0m\u001b[0;34m:\u001b[0m\u001b[0;34m\u001b[0m\u001b[0;34m\u001b[0m\u001b[0m\n\u001b[1;32m    175\u001b[0m       \u001b[0;32mwhile\u001b[0m \u001b[0;32mnot\u001b[0m \u001b[0mshould_terminate\u001b[0m\u001b[0;34m(\u001b[0m\u001b[0mepisode_count\u001b[0m\u001b[0;34m,\u001b[0m \u001b[0mstep_count\u001b[0m\u001b[0;34m)\u001b[0m\u001b[0;34m:\u001b[0m\u001b[0;34m\u001b[0m\u001b[0;34m\u001b[0m\u001b[0m\n\u001b[0;32m--> 176\u001b[0;31m         \u001b[0mresult\u001b[0m \u001b[0;34m=\u001b[0m \u001b[0mself\u001b[0m\u001b[0;34m.\u001b[0m\u001b[0mrun_episode\u001b[0m\u001b[0;34m(\u001b[0m\u001b[0;34m)\u001b[0m\u001b[0;34m\u001b[0m\u001b[0;34m\u001b[0m\u001b[0m\n\u001b[0m\u001b[1;32m    177\u001b[0m         \u001b[0mepisode_count\u001b[0m \u001b[0;34m+=\u001b[0m \u001b[0;36m1\u001b[0m\u001b[0;34m\u001b[0m\u001b[0;34m\u001b[0m\u001b[0m\n\u001b[1;32m    178\u001b[0m         \u001b[0mstep_count\u001b[0m \u001b[0;34m+=\u001b[0m \u001b[0mresult\u001b[0m\u001b[0;34m[\u001b[0m\u001b[0;34m'episode_length'\u001b[0m\u001b[0;34m]\u001b[0m\u001b[0;34m\u001b[0m\u001b[0;34m\u001b[0m\u001b[0m\n",
      "\u001b[0;32m/opt/conda/lib/python3.7/site-packages/acme/environment_loop.py\u001b[0m in \u001b[0;36mrun_episode\u001b[0;34m(self)\u001b[0m\n\u001b[1;32m    104\u001b[0m       \u001b[0;31m# Generate an action from the agent's policy and step the environment.\u001b[0m\u001b[0;34m\u001b[0m\u001b[0;34m\u001b[0m\u001b[0;34m\u001b[0m\u001b[0m\n\u001b[1;32m    105\u001b[0m       \u001b[0maction\u001b[0m \u001b[0;34m=\u001b[0m \u001b[0mself\u001b[0m\u001b[0;34m.\u001b[0m\u001b[0m_actor\u001b[0m\u001b[0;34m.\u001b[0m\u001b[0mselect_action\u001b[0m\u001b[0;34m(\u001b[0m\u001b[0mtimestep\u001b[0m\u001b[0;34m.\u001b[0m\u001b[0mobservation\u001b[0m\u001b[0;34m)\u001b[0m\u001b[0;34m\u001b[0m\u001b[0;34m\u001b[0m\u001b[0m\n\u001b[0;32m--> 106\u001b[0;31m       \u001b[0mtimestep\u001b[0m \u001b[0;34m=\u001b[0m \u001b[0mself\u001b[0m\u001b[0;34m.\u001b[0m\u001b[0m_environment\u001b[0m\u001b[0;34m.\u001b[0m\u001b[0mstep\u001b[0m\u001b[0;34m(\u001b[0m\u001b[0maction\u001b[0m\u001b[0;34m)\u001b[0m\u001b[0;34m\u001b[0m\u001b[0;34m\u001b[0m\u001b[0m\n\u001b[0m\u001b[1;32m    107\u001b[0m \u001b[0;34m\u001b[0m\u001b[0m\n\u001b[1;32m    108\u001b[0m       \u001b[0;31m# Have the agent observe the timestep and let the actor update itself.\u001b[0m\u001b[0;34m\u001b[0m\u001b[0;34m\u001b[0m\u001b[0;34m\u001b[0m\u001b[0m\n",
      "\u001b[0;32m/opt/conda/lib/python3.7/site-packages/acme/wrappers/single_precision.py\u001b[0m in \u001b[0;36mstep\u001b[0;34m(self, action)\u001b[0m\n\u001b[1;32m     35\u001b[0m \u001b[0;34m\u001b[0m\u001b[0m\n\u001b[1;32m     36\u001b[0m   \u001b[0;32mdef\u001b[0m \u001b[0mstep\u001b[0m\u001b[0;34m(\u001b[0m\u001b[0mself\u001b[0m\u001b[0;34m,\u001b[0m \u001b[0maction\u001b[0m\u001b[0;34m)\u001b[0m \u001b[0;34m->\u001b[0m \u001b[0mdm_env\u001b[0m\u001b[0;34m.\u001b[0m\u001b[0mTimeStep\u001b[0m\u001b[0;34m:\u001b[0m\u001b[0;34m\u001b[0m\u001b[0;34m\u001b[0m\u001b[0m\n\u001b[0;32m---> 37\u001b[0;31m     \u001b[0;32mreturn\u001b[0m \u001b[0mself\u001b[0m\u001b[0;34m.\u001b[0m\u001b[0m_convert_timestep\u001b[0m\u001b[0;34m(\u001b[0m\u001b[0mself\u001b[0m\u001b[0;34m.\u001b[0m\u001b[0m_environment\u001b[0m\u001b[0;34m.\u001b[0m\u001b[0mstep\u001b[0m\u001b[0;34m(\u001b[0m\u001b[0maction\u001b[0m\u001b[0;34m)\u001b[0m\u001b[0;34m)\u001b[0m\u001b[0;34m\u001b[0m\u001b[0;34m\u001b[0m\u001b[0m\n\u001b[0m\u001b[1;32m     38\u001b[0m \u001b[0;34m\u001b[0m\u001b[0m\n\u001b[1;32m     39\u001b[0m   \u001b[0;32mdef\u001b[0m \u001b[0mreset\u001b[0m\u001b[0;34m(\u001b[0m\u001b[0mself\u001b[0m\u001b[0;34m)\u001b[0m \u001b[0;34m->\u001b[0m \u001b[0mdm_env\u001b[0m\u001b[0;34m.\u001b[0m\u001b[0mTimeStep\u001b[0m\u001b[0;34m:\u001b[0m\u001b[0;34m\u001b[0m\u001b[0;34m\u001b[0m\u001b[0m\n",
      "\u001b[0;32m/opt/conda/lib/python3.7/site-packages/acme/wrappers/gym_wrapper.py\u001b[0m in \u001b[0;36mstep\u001b[0;34m(self, action)\u001b[0m\n\u001b[1;32m     59\u001b[0m       \u001b[0;32mreturn\u001b[0m \u001b[0mself\u001b[0m\u001b[0;34m.\u001b[0m\u001b[0mreset\u001b[0m\u001b[0;34m(\u001b[0m\u001b[0;34m)\u001b[0m\u001b[0;34m\u001b[0m\u001b[0;34m\u001b[0m\u001b[0m\n\u001b[1;32m     60\u001b[0m \u001b[0;34m\u001b[0m\u001b[0m\n\u001b[0;32m---> 61\u001b[0;31m     \u001b[0mobservation\u001b[0m\u001b[0;34m,\u001b[0m \u001b[0mreward\u001b[0m\u001b[0;34m,\u001b[0m \u001b[0mdone\u001b[0m\u001b[0;34m,\u001b[0m \u001b[0minfo\u001b[0m \u001b[0;34m=\u001b[0m \u001b[0mself\u001b[0m\u001b[0;34m.\u001b[0m\u001b[0m_environment\u001b[0m\u001b[0;34m.\u001b[0m\u001b[0mstep\u001b[0m\u001b[0;34m(\u001b[0m\u001b[0maction\u001b[0m\u001b[0;34m)\u001b[0m\u001b[0;34m\u001b[0m\u001b[0;34m\u001b[0m\u001b[0m\n\u001b[0m\u001b[1;32m     62\u001b[0m     \u001b[0mself\u001b[0m\u001b[0;34m.\u001b[0m\u001b[0m_reset_next_step\u001b[0m \u001b[0;34m=\u001b[0m \u001b[0mdone\u001b[0m\u001b[0;34m\u001b[0m\u001b[0;34m\u001b[0m\u001b[0m\n\u001b[1;32m     63\u001b[0m     \u001b[0mself\u001b[0m\u001b[0;34m.\u001b[0m\u001b[0m_last_info\u001b[0m \u001b[0;34m=\u001b[0m \u001b[0minfo\u001b[0m\u001b[0;34m\u001b[0m\u001b[0;34m\u001b[0m\u001b[0m\n",
      "\u001b[0;32m/opt/conda/lib/python3.7/site-packages/gym/wrappers/time_limit.py\u001b[0m in \u001b[0;36mstep\u001b[0;34m(self, action)\u001b[0m\n\u001b[1;32m     15\u001b[0m \u001b[0;34m\u001b[0m\u001b[0m\n\u001b[1;32m     16\u001b[0m     \u001b[0;32mdef\u001b[0m \u001b[0mstep\u001b[0m\u001b[0;34m(\u001b[0m\u001b[0mself\u001b[0m\u001b[0;34m,\u001b[0m \u001b[0maction\u001b[0m\u001b[0;34m)\u001b[0m\u001b[0;34m:\u001b[0m\u001b[0;34m\u001b[0m\u001b[0;34m\u001b[0m\u001b[0m\n\u001b[0;32m---> 17\u001b[0;31m         \u001b[0mobservation\u001b[0m\u001b[0;34m,\u001b[0m \u001b[0mreward\u001b[0m\u001b[0;34m,\u001b[0m \u001b[0mdone\u001b[0m\u001b[0;34m,\u001b[0m \u001b[0minfo\u001b[0m \u001b[0;34m=\u001b[0m \u001b[0mself\u001b[0m\u001b[0;34m.\u001b[0m\u001b[0menv\u001b[0m\u001b[0;34m.\u001b[0m\u001b[0mstep\u001b[0m\u001b[0;34m(\u001b[0m\u001b[0maction\u001b[0m\u001b[0;34m)\u001b[0m\u001b[0;34m\u001b[0m\u001b[0;34m\u001b[0m\u001b[0m\n\u001b[0m\u001b[1;32m     18\u001b[0m         \u001b[0mself\u001b[0m\u001b[0;34m.\u001b[0m\u001b[0m_elapsed_steps\u001b[0m \u001b[0;34m+=\u001b[0m \u001b[0;36m1\u001b[0m\u001b[0;34m\u001b[0m\u001b[0;34m\u001b[0m\u001b[0m\n\u001b[1;32m     19\u001b[0m         \u001b[0;32mif\u001b[0m \u001b[0mself\u001b[0m\u001b[0;34m.\u001b[0m\u001b[0m_elapsed_steps\u001b[0m \u001b[0;34m>=\u001b[0m \u001b[0mself\u001b[0m\u001b[0;34m.\u001b[0m\u001b[0m_max_episode_steps\u001b[0m\u001b[0;34m:\u001b[0m\u001b[0;34m\u001b[0m\u001b[0;34m\u001b[0m\u001b[0m\n",
      "\u001b[0;32m/opt/conda/lib/python3.7/site-packages/gym/wrappers/order_enforcing.py\u001b[0m in \u001b[0;36mstep\u001b[0;34m(self, action)\u001b[0m\n\u001b[1;32m     11\u001b[0m     \u001b[0;32mdef\u001b[0m \u001b[0mstep\u001b[0m\u001b[0;34m(\u001b[0m\u001b[0mself\u001b[0m\u001b[0;34m,\u001b[0m \u001b[0maction\u001b[0m\u001b[0;34m)\u001b[0m\u001b[0;34m:\u001b[0m\u001b[0;34m\u001b[0m\u001b[0;34m\u001b[0m\u001b[0m\n\u001b[1;32m     12\u001b[0m         \u001b[0;32massert\u001b[0m \u001b[0mself\u001b[0m\u001b[0;34m.\u001b[0m\u001b[0m_has_reset\u001b[0m\u001b[0;34m,\u001b[0m \u001b[0;34m\"Cannot call env.step() before calling reset()\"\u001b[0m\u001b[0;34m\u001b[0m\u001b[0;34m\u001b[0m\u001b[0m\n\u001b[0;32m---> 13\u001b[0;31m         \u001b[0mobservation\u001b[0m\u001b[0;34m,\u001b[0m \u001b[0mreward\u001b[0m\u001b[0;34m,\u001b[0m \u001b[0mdone\u001b[0m\u001b[0;34m,\u001b[0m \u001b[0minfo\u001b[0m \u001b[0;34m=\u001b[0m \u001b[0mself\u001b[0m\u001b[0;34m.\u001b[0m\u001b[0menv\u001b[0m\u001b[0;34m.\u001b[0m\u001b[0mstep\u001b[0m\u001b[0;34m(\u001b[0m\u001b[0maction\u001b[0m\u001b[0;34m)\u001b[0m\u001b[0;34m\u001b[0m\u001b[0;34m\u001b[0m\u001b[0m\n\u001b[0m\u001b[1;32m     14\u001b[0m         \u001b[0;32mreturn\u001b[0m \u001b[0mobservation\u001b[0m\u001b[0;34m,\u001b[0m \u001b[0mreward\u001b[0m\u001b[0;34m,\u001b[0m \u001b[0mdone\u001b[0m\u001b[0;34m,\u001b[0m \u001b[0minfo\u001b[0m\u001b[0;34m\u001b[0m\u001b[0;34m\u001b[0m\u001b[0m\n\u001b[1;32m     15\u001b[0m \u001b[0;34m\u001b[0m\u001b[0m\n",
      "\u001b[0;32m/opt/conda/lib/python3.7/site-packages/gym/envs/classic_control/cartpole.py\u001b[0m in \u001b[0;36mstep\u001b[0;34m(self, action)\u001b[0m\n\u001b[1;32m    116\u001b[0m     \u001b[0;32mdef\u001b[0m \u001b[0mstep\u001b[0m\u001b[0;34m(\u001b[0m\u001b[0mself\u001b[0m\u001b[0;34m,\u001b[0m \u001b[0maction\u001b[0m\u001b[0;34m)\u001b[0m\u001b[0;34m:\u001b[0m\u001b[0;34m\u001b[0m\u001b[0;34m\u001b[0m\u001b[0m\n\u001b[1;32m    117\u001b[0m         \u001b[0merr_msg\u001b[0m \u001b[0;34m=\u001b[0m \u001b[0;34mf\"{action!r} ({type(action)}) invalid\"\u001b[0m\u001b[0;34m\u001b[0m\u001b[0;34m\u001b[0m\u001b[0m\n\u001b[0;32m--> 118\u001b[0;31m         \u001b[0;32massert\u001b[0m \u001b[0mself\u001b[0m\u001b[0;34m.\u001b[0m\u001b[0maction_space\u001b[0m\u001b[0;34m.\u001b[0m\u001b[0mcontains\u001b[0m\u001b[0;34m(\u001b[0m\u001b[0maction\u001b[0m\u001b[0;34m)\u001b[0m\u001b[0;34m,\u001b[0m \u001b[0merr_msg\u001b[0m\u001b[0;34m\u001b[0m\u001b[0;34m\u001b[0m\u001b[0m\n\u001b[0m\u001b[1;32m    119\u001b[0m         \u001b[0;32massert\u001b[0m \u001b[0mself\u001b[0m\u001b[0;34m.\u001b[0m\u001b[0mstate\u001b[0m \u001b[0;32mis\u001b[0m \u001b[0;32mnot\u001b[0m \u001b[0;32mNone\u001b[0m\u001b[0;34m,\u001b[0m \u001b[0;34m\"Call reset before using step method.\"\u001b[0m\u001b[0;34m\u001b[0m\u001b[0;34m\u001b[0m\u001b[0m\n\u001b[1;32m    120\u001b[0m         \u001b[0mx\u001b[0m\u001b[0;34m,\u001b[0m \u001b[0mx_dot\u001b[0m\u001b[0;34m,\u001b[0m \u001b[0mtheta\u001b[0m\u001b[0;34m,\u001b[0m \u001b[0mtheta_dot\u001b[0m \u001b[0;34m=\u001b[0m \u001b[0mself\u001b[0m\u001b[0;34m.\u001b[0m\u001b[0mstate\u001b[0m\u001b[0;34m\u001b[0m\u001b[0;34m\u001b[0m\u001b[0m\n",
      "\u001b[0;31mAssertionError\u001b[0m: array([0.16814864], dtype=float32) (<class 'numpy.ndarray'>) invalid"
     ]
    }
   ],
   "source": [
    "# Run a `num_episodes` training episodes.\n",
    "# Rerun this cell until the agent has learned the given task.\n",
    "env_loop.run(num_episodes=50)"
   ]
  },
  {
   "cell_type": "code",
   "execution_count": 38,
   "id": "3884f9d9",
   "metadata": {
    "Collapsed": "false"
   },
   "outputs": [],
   "source": [
    "# Create a simple helper function to render a frame from the current state of\n",
    "# the environment.\n",
    "\n",
    "def render(env):\n",
    "    return env.environment.render(mode='rgb_array')\n",
    "\n",
    "\n",
    "def display_video(frames, filename='temp.mp4'):\n",
    "  \"\"\"Save and display video.\"\"\"\n",
    "\n",
    "  # Write video\n",
    "  with imageio.get_writer(filename, fps=60) as video:\n",
    "    for frame in frames:\n",
    "      video.append_data(frame)\n",
    "\n",
    "  # Read video and display the video\n",
    "  video = open(filename, 'rb').read()\n",
    "  b64_video = base64.b64encode(video)\n",
    "  video_tag = ('<video  width=\"320\" height=\"240\" controls alt=\"test\" '\n",
    "               'src=\"data:video/mp4;base64,{0}\">').format(b64_video.decode())\n",
    "\n",
    "  return IPython.display.HTML(video_tag)"
   ]
  },
  {
   "cell_type": "code",
   "execution_count": 39,
   "id": "72202829",
   "metadata": {
    "Collapsed": "false"
   },
   "outputs": [],
   "source": [
    "import IPython"
   ]
  },
  {
   "cell_type": "code",
   "execution_count": 40,
   "id": "74369a7d",
   "metadata": {
    "Collapsed": "false"
   },
   "outputs": [
    {
     "name": "stderr",
     "output_type": "stream",
     "text": [
      "WARNING:imageio_ffmpeg:IMAGEIO FFMPEG_WRITER WARNING: input image is not divisible by macro_block_size=16, resizing from (600, 400) to (608, 400) to ensure video compatibility with most codecs and players. To prevent resizing, make your input image divisible by the macro_block_size or set the macro_block_size to 1 (risking incompatibility).\n"
     ]
    },
    {
     "data": {
      "text/html": [
       "<video  width=\"320\" height=\"240\" controls alt=\"test\" src=\"data:video/mp4;base64,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\">"
      ],
      "text/plain": [
       "<IPython.core.display.HTML object>"
      ]
     },
     "execution_count": 40,
     "metadata": {},
     "output_type": "execute_result"
    }
   ],
   "source": [
    "timestep = environment.reset()\n",
    "frames = [render(environment)]\n",
    "\n",
    "while not timestep.last():\n",
    "  # Simple environment loop.\n",
    "  action = agent.select_action(timestep.observation)\n",
    "  timestep = environment.step(action)\n",
    "\n",
    "  # Render the scene and add it to the frame stack.\n",
    "  frames.append(render(environment))\n",
    "\n",
    "# Save and display a video of the behaviour.\n",
    "display_video(np.array(frames))"
   ]
  },
  {
   "cell_type": "code",
   "execution_count": null,
   "id": "e2810c6b",
   "metadata": {
    "Collapsed": "false"
   },
   "outputs": [],
   "source": []
  }
 ],
 "metadata": {
  "environment": {
   "name": "common-cu110.m74",
   "type": "gcloud",
   "uri": "gcr.io/deeplearning-platform-release/base-cu110:m74"
  },
  "kernelspec": {
   "display_name": "Python 3 (ipykernel)",
   "language": "python",
   "name": "python3"
  },
  "language_info": {
   "codemirror_mode": {
    "name": "ipython",
    "version": 3
   },
   "file_extension": ".py",
   "mimetype": "text/x-python",
   "name": "python",
   "nbconvert_exporter": "python",
   "pygments_lexer": "ipython3",
   "version": "3.9.12"
  }
 },
 "nbformat": 4,
 "nbformat_minor": 5
}
