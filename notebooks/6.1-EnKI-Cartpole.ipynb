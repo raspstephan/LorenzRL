{
 "cells": [
  {
   "cell_type": "code",
   "execution_count": 8,
   "id": "f898bbae-090e-4f54-8b89-90bbc6a86b01",
   "metadata": {},
   "outputs": [],
   "source": [
    "import gym\n",
    "import torch\n",
    "from torch import nn"
   ]
  },
  {
   "cell_type": "code",
   "execution_count": 3,
   "id": "4b4a3592-e0cc-444e-bc94-6244991a85f8",
   "metadata": {},
   "outputs": [],
   "source": [
    "environment = gym.make('CartPole-v1')"
   ]
  },
  {
   "cell_type": "code",
   "execution_count": 4,
   "id": "3c3a4d99-2e44-4244-807a-55a103870ef7",
   "metadata": {},
   "outputs": [],
   "source": [
    "state = environment.reset()"
   ]
  },
  {
   "cell_type": "code",
   "execution_count": 5,
   "id": "61c9e032-bd9d-4800-bc8b-5e961a72d463",
   "metadata": {},
   "outputs": [
    {
     "data": {
      "text/plain": [
       "array([-0.04252762, -0.03842452, -0.01699254, -0.03133183], dtype=float32)"
      ]
     },
     "execution_count": 5,
     "metadata": {},
     "output_type": "execute_result"
    }
   ],
   "source": [
    "state"
   ]
  },
  {
   "cell_type": "code",
   "execution_count": 6,
   "id": "35bb2fde-5b1c-42da-948a-7d521a1bc321",
   "metadata": {},
   "outputs": [
    {
     "data": {
      "text/plain": [
       "Discrete(2)"
      ]
     },
     "execution_count": 6,
     "metadata": {},
     "output_type": "execute_result"
    }
   ],
   "source": [
    "environment.action_space"
   ]
  },
  {
   "cell_type": "code",
   "execution_count": 22,
   "id": "ffa1543e-e97a-49bd-87f0-3d28e36722de",
   "metadata": {},
   "outputs": [
    {
     "data": {
      "text/plain": [
       "(array([-0.04796209, -0.42816475, -0.01250035,  0.5430156 ], dtype=float32),\n",
       " 1.0,\n",
       " False,\n",
       " {})"
      ]
     },
     "execution_count": 22,
     "metadata": {},
     "output_type": "execute_result"
    }
   ],
   "source": [
    "environment.step(0)"
   ]
  },
  {
   "cell_type": "code",
   "execution_count": 9,
   "id": "c15a8daf-56d9-4902-9dec-7e9fa64f71aa",
   "metadata": {},
   "outputs": [],
   "source": [
    "class Network(nn.Module):\n",
    "    def __init__(self, N_state, N_hidden):\n",
    "        super().__init__()\n",
    "        self.net = nn.Sequential(\n",
    "            nn.Linear(N_state, N_hidden),\n",
    "            nn.ReLU(),\n",
    "            nn.Linear(N_hidden, N_hidden),\n",
    "            nn.ReLU(),\n",
    "            nn.Linear(N_hidden, 1),\n",
    "            nn.Sigmoid()\n",
    "        )\n",
    "        \n",
    "        \n",
    "    def forward(self, x):\n",
    "        x = self.net(x)\n",
    "        return x"
   ]
  },
  {
   "cell_type": "code",
   "execution_count": 17,
   "id": "5733397a-0b96-471d-8d59-664ee1ef80e8",
   "metadata": {},
   "outputs": [],
   "source": [
    "net = Network(4, 4)"
   ]
  },
  {
   "cell_type": "code",
   "execution_count": 18,
   "id": "152acbc2-b866-488b-a8ac-a3ddb8d30f43",
   "metadata": {},
   "outputs": [
    {
     "data": {
      "text/plain": [
       "tensor([0.4979], grad_fn=<SigmoidBackward0>)"
      ]
     },
     "execution_count": 18,
     "metadata": {},
     "output_type": "execute_result"
    }
   ],
   "source": [
    "net(torch.from_numpy(state))"
   ]
  },
  {
   "cell_type": "code",
   "execution_count": 19,
   "id": "4c469077-1c15-4d69-89a5-572e3cf3ab18",
   "metadata": {},
   "outputs": [
    {
     "data": {
      "text/plain": [
       "<generator object Module.parameters at 0x1627b4b30>"
      ]
     },
     "execution_count": 19,
     "metadata": {},
     "output_type": "execute_result"
    }
   ],
   "source": [
    "net.parameters()"
   ]
  },
  {
   "cell_type": "code",
   "execution_count": 20,
   "id": "6c081eff-d960-4c7a-a2cd-9f8b83a48a74",
   "metadata": {},
   "outputs": [
    {
     "data": {
      "text/plain": [
       "OrderedDict([('net.0.weight',\n",
       "              tensor([[-0.0160,  0.2757, -0.0294,  0.2686],\n",
       "                      [-0.1165, -0.0253, -0.1185, -0.3917],\n",
       "                      [ 0.4059, -0.1830, -0.1938, -0.0633],\n",
       "                      [ 0.1620, -0.2424, -0.0303,  0.0828]])),\n",
       "             ('net.0.bias', tensor([ 0.0467, -0.0472,  0.2009, -0.4035])),\n",
       "             ('net.2.weight',\n",
       "              tensor([[ 0.0873, -0.1049,  0.4551, -0.1541],\n",
       "                      [ 0.3983,  0.3628, -0.4833,  0.4089],\n",
       "                      [ 0.1993, -0.2436,  0.4484,  0.4685],\n",
       "                      [ 0.0943, -0.1606,  0.0603,  0.2916]])),\n",
       "             ('net.2.bias', tensor([0.3230, 0.1074, 0.2505, 0.1426])),\n",
       "             ('net.4.weight', tensor([[-0.1777,  0.2864, -0.4699, -0.0959]])),\n",
       "             ('net.4.bias', tensor([0.2352]))])"
      ]
     },
     "execution_count": 20,
     "metadata": {},
     "output_type": "execute_result"
    }
   ],
   "source": [
    "net.state_dict()"
   ]
  },
  {
   "cell_type": "code",
   "execution_count": null,
   "id": "4a628228-51ab-456f-88f3-e6c10d9da56a",
   "metadata": {},
   "outputs": [],
   "source": [
    "# write fn to flatten and unflatten parameters and convert to np"
   ]
  }
 ],
 "metadata": {
  "kernelspec": {
   "display_name": "Python 3 (ipykernel)",
   "language": "python",
   "name": "python3"
  },
  "language_info": {
   "codemirror_mode": {
    "name": "ipython",
    "version": 3
   },
   "file_extension": ".py",
   "mimetype": "text/x-python",
   "name": "python",
   "nbconvert_exporter": "python",
   "pygments_lexer": "ipython3",
   "version": "3.9.12"
  }
 },
 "nbformat": 4,
 "nbformat_minor": 5
}
